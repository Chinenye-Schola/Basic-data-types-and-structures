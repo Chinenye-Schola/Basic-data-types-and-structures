{
 "cells": [
  {
   "cell_type": "markdown",
   "id": "67b3138b",
   "metadata": {},
   "source": [
    " ## Data Types"
   ]
  },
  {
   "cell_type": "code",
   "execution_count": 3,
   "id": "aa8f3302",
   "metadata": {},
   "outputs": [
    {
     "data": {
      "text/plain": [
       "'world'"
      ]
     },
     "execution_count": 3,
     "metadata": {},
     "output_type": "execute_result"
    }
   ],
   "source": [
    "# Text data type\n",
    "# it is called strings in python\n",
    "'hello';\n",
    "\"world\""
   ]
  },
  {
   "cell_type": "code",
   "execution_count": 6,
   "id": "9fc22617",
   "metadata": {},
   "outputs": [
    {
     "name": "stdout",
     "output_type": "stream",
     "text": [
      "\n",
      " 17, Akerele Street oworonshoki,\n",
      " gbagada,\n",
      " Lagos\n",
      "\n"
     ]
    }
   ],
   "source": [
    "address = '''\n",
    " 17, Akerele Street oworonshoki,\n",
    " gbagada,\n",
    " Lagos\n",
    "'''\n",
    "\n",
    "print(address)"
   ]
  },
  {
   "cell_type": "markdown",
   "id": "6967d249",
   "metadata": {},
   "source": [
    "## SLICING STRINGS"
   ]
  },
  {
   "cell_type": "code",
   "execution_count": 10,
   "id": "f3faf17b",
   "metadata": {},
   "outputs": [
    {
     "data": {
      "text/plain": [
       "'Davi'"
      ]
     },
     "execution_count": 10,
     "metadata": {},
     "output_type": "execute_result"
    }
   ],
   "source": [
    "#taking a subset of an array\n",
    "# array is collection of characters\n",
    "name = 'David'\n",
    "name[0:4]"
   ]
  },
  {
   "cell_type": "code",
   "execution_count": 12,
   "id": "917c7471",
   "metadata": {},
   "outputs": [
    {
     "data": {
      "text/plain": [
       "'Happy'"
      ]
     },
     "execution_count": 12,
     "metadata": {},
     "output_type": "execute_result"
    }
   ],
   "source": [
    "s = 'Happy birthday'\n",
    "s[0:5]"
   ]
  },
  {
   "cell_type": "code",
   "execution_count": 13,
   "id": "754d5c81",
   "metadata": {},
   "outputs": [
    {
     "data": {
      "text/plain": [
       "'birthday'"
      ]
     },
     "execution_count": 13,
     "metadata": {},
     "output_type": "execute_result"
    }
   ],
   "source": [
    "s[6:]"
   ]
  },
  {
   "cell_type": "markdown",
   "id": "7f095779",
   "metadata": {},
   "source": [
    "## Concatenating Strings"
   ]
  },
  {
   "cell_type": "code",
   "execution_count": 20,
   "id": "2a61a9e2",
   "metadata": {},
   "outputs": [
    {
     "name": "stdout",
     "output_type": "stream",
     "text": [
      "Happy New Month\n"
     ]
    }
   ],
   "source": [
    "a = 'Happy'\n",
    "b = 'New Month'\n",
    "# another way to do it, result = a + ' ' + b, then print(result)\n",
    "print(a, b)\n"
   ]
  },
  {
   "cell_type": "markdown",
   "id": "f412d3ee",
   "metadata": {},
   "source": [
    "### Numeric data type"
   ]
  },
  {
   "cell_type": "code",
   "execution_count": 24,
   "id": "9d86e4c9",
   "metadata": {},
   "outputs": [
    {
     "name": "stdout",
     "output_type": "stream",
     "text": [
      "<class 'int'>\n"
     ]
    }
   ],
   "source": [
    "# creating variable to define the data type\n",
    "\n",
    "x = 10\n",
    "y = 3.142\n",
    "z = 1j\n",
    "\n",
    "print(type(x))"
   ]
  },
  {
   "cell_type": "code",
   "execution_count": 25,
   "id": "f54a492a",
   "metadata": {},
   "outputs": [
    {
     "name": "stdout",
     "output_type": "stream",
     "text": [
      "<class 'float'>\n"
     ]
    }
   ],
   "source": [
    "print(type(y))"
   ]
  },
  {
   "cell_type": "code",
   "execution_count": 26,
   "id": "323c9e1f",
   "metadata": {},
   "outputs": [
    {
     "name": "stdout",
     "output_type": "stream",
     "text": [
      "<class 'complex'>\n"
     ]
    }
   ],
   "source": [
    "print(type(z))"
   ]
  },
  {
   "cell_type": "code",
   "execution_count": 28,
   "id": "ab5194d3",
   "metadata": {},
   "outputs": [
    {
     "name": "stdout",
     "output_type": "stream",
     "text": [
      "(10+0j)\n"
     ]
    }
   ],
   "source": [
    "# convert integer to complex data type\n",
    "x_conv = complex(x)\n",
    "print(x_conv)"
   ]
  },
  {
   "cell_type": "code",
   "execution_count": 29,
   "id": "14885922",
   "metadata": {},
   "outputs": [
    {
     "name": "stdout",
     "output_type": "stream",
     "text": [
      "3\n"
     ]
    }
   ],
   "source": [
    "# convert from float to integer\n",
    "y_conv = int(y)\n",
    "print(y_conv)"
   ]
  },
  {
   "cell_type": "markdown",
   "id": "c23508af",
   "metadata": {},
   "source": [
    "## DATA STRUCTURES"
   ]
  },
  {
   "cell_type": "markdown",
   "id": "f57d8d91",
   "metadata": {},
   "source": [
    "### List"
   ]
  },
  {
   "cell_type": "code",
   "execution_count": 46,
   "id": "1aa34a53",
   "metadata": {},
   "outputs": [
    {
     "name": "stdout",
     "output_type": "stream",
     "text": [
      "['Cherry', 'Tomatoes', 'Berries', 'Mangoes', 'chinenye', 'Dozie', 'Onyinye', 'Dozie jnr']\n"
     ]
    }
   ],
   "source": [
    "# A list in python is an ordered collect of items in a square brackets, items are seprated by comma\n",
    "\n",
    "thisList = [\"Cherry\", \"Tomatoes\", \"Berries\"]\n",
    "thisList.append(\"Mangoes\")\n",
    "thisList.extend(nameOfCustomers)\n",
    "print(thisList)"
   ]
  },
  {
   "cell_type": "code",
   "execution_count": 41,
   "id": "0151efde",
   "metadata": {},
   "outputs": [
    {
     "name": "stdout",
     "output_type": "stream",
     "text": [
      "['chinenye', 'Dozie', 'Onyinye', 'Dozie jnr']\n"
     ]
    }
   ],
   "source": [
    "nameOfCustomers = [\"chinenye\", \"Dozie\", \"Onyinye\",\"Dozie jnr\"]\n",
    "\n",
    "print(nameOfCustomers)"
   ]
  },
  {
   "cell_type": "markdown",
   "id": "85904f19",
   "metadata": {},
   "source": [
    "### Assesing List Elements"
   ]
  },
  {
   "cell_type": "code",
   "execution_count": 47,
   "id": "131f90fe",
   "metadata": {},
   "outputs": [
    {
     "data": {
      "text/plain": [
       "['Berries', 'Mangoes', 'chinenye', 'Dozie', 'Onyinye']"
      ]
     },
     "execution_count": 47,
     "metadata": {},
     "output_type": "execute_result"
    }
   ],
   "source": [
    "thisList[2:7]"
   ]
  },
  {
   "cell_type": "code",
   "execution_count": null,
   "id": "e34fedc7",
   "metadata": {},
   "outputs": [],
   "source": [
    "\n"
   ]
  },
  {
   "cell_type": "markdown",
   "id": "73449100",
   "metadata": {},
   "source": [
    "## Add items to Lists"
   ]
  },
  {
   "cell_type": "code",
   "execution_count": 48,
   "id": "36ab1161",
   "metadata": {},
   "outputs": [],
   "source": [
    "\n",
    "#APPEND METHOD\n",
    "\n",
    "# thisList.append()\n"
   ]
  },
  {
   "cell_type": "code",
   "execution_count": 65,
   "id": "ec56ffdf",
   "metadata": {},
   "outputs": [
    {
     "name": "stdout",
     "output_type": "stream",
     "text": [
      "['Oranges', \"'Oranges', 'strawberries'\", \"'Oranges', 'strawberries'\", 'Cherry', 'Tomatoes', 'Berries', 'Mangoes', 'chinenye', 'Dozie', 'Onyinye', 'Dozie jnr']\n"
     ]
    }
   ],
   "source": [
    "#Insert Method ; declare where you want to insert the item in the list\n",
    "\n",
    "thisList.insert(0,'Oranges')\n",
    "print(thisList)"
   ]
  },
  {
   "cell_type": "code",
   "execution_count": null,
   "id": "a467dd55",
   "metadata": {},
   "outputs": [],
   "source": []
  },
  {
   "cell_type": "markdown",
   "id": "27130145",
   "metadata": {},
   "source": [
    "## Removing items from the lists"
   ]
  },
  {
   "cell_type": "code",
   "execution_count": 66,
   "id": "91c33ba4",
   "metadata": {},
   "outputs": [
    {
     "name": "stdout",
     "output_type": "stream",
     "text": [
      "[\"'Oranges', 'strawberries'\", \"'Oranges', 'strawberries'\", 'Cherry', 'Tomatoes', 'Berries', 'Mangoes', 'chinenye', 'Dozie', 'Onyinye', 'Dozie jnr']\n"
     ]
    }
   ],
   "source": [
    "#remove method\n",
    "\n",
    "thisList.remove('Oranges')\n",
    "print(thisList)"
   ]
  },
  {
   "cell_type": "code",
   "execution_count": 67,
   "id": "c06382d0",
   "metadata": {},
   "outputs": [
    {
     "data": {
      "text/plain": [
       "'chinenye'"
      ]
     },
     "execution_count": 67,
     "metadata": {},
     "output_type": "execute_result"
    }
   ],
   "source": [
    "thisList.pop(6)"
   ]
  },
  {
   "cell_type": "code",
   "execution_count": 68,
   "id": "127bf763",
   "metadata": {},
   "outputs": [
    {
     "name": "stdout",
     "output_type": "stream",
     "text": [
      "[\"'Oranges', 'strawberries'\", \"'Oranges', 'strawberries'\", 'Cherry', 'Tomatoes', 'Berries', 'Mangoes', 'Dozie', 'Onyinye', 'Dozie jnr']\n"
     ]
    }
   ],
   "source": [
    "print(thisList)"
   ]
  },
  {
   "cell_type": "code",
   "execution_count": 70,
   "id": "56783169",
   "metadata": {},
   "outputs": [
    {
     "name": "stdout",
     "output_type": "stream",
     "text": [
      "[]\n"
     ]
    }
   ],
   "source": [
    "# clear method deletes everyting in the list\n",
    "thisList.clear()\n",
    "print(thisList)"
   ]
  },
  {
   "cell_type": "code",
   "execution_count": null,
   "id": "fe1db54c",
   "metadata": {},
   "outputs": [],
   "source": []
  },
  {
   "cell_type": "markdown",
   "id": "6b6988cb",
   "metadata": {},
   "source": [
    "## Sorting a List"
   ]
  },
  {
   "cell_type": "code",
   "execution_count": 75,
   "id": "e64e854f",
   "metadata": {},
   "outputs": [
    {
     "name": "stdout",
     "output_type": "stream",
     "text": [
      "['Tomatoes', 'Cherry', 'Berries']\n"
     ]
    }
   ],
   "source": [
    "thisList = [\"Cherry\", \"Tomatoes\", \"Berries\"]\n",
    "#to sort from the back\n",
    "thisList.sort(reverse = True)\n",
    "print(thisList)"
   ]
  },
  {
   "cell_type": "markdown",
   "id": "b5b3e29c",
   "metadata": {},
   "source": [
    "\n",
    "\n",
    "\n",
    "\n",
    "# TUPLE"
   ]
  },
  {
   "cell_type": "code",
   "execution_count": 76,
   "id": "4751a69a",
   "metadata": {},
   "outputs": [
    {
     "name": "stdout",
     "output_type": "stream",
     "text": [
      "('apple', 'Berries', 'cherry')\n"
     ]
    }
   ],
   "source": [
    "# Tuple is a collection of items, just like List. However, it is immutable, which means once you create a tuple, you can't alter it\n",
    "#They are denoted by parenthesis, and items are separated by commas\n",
    "# it is use to store data that cannot change eg. coordinates \n",
    "thisTuple = (\"apple\", \"Berries\", \"cherry\")\n",
    "print(thisTuple)"
   ]
  },
  {
   "cell_type": "code",
   "execution_count": null,
   "id": "41ea2e6c",
   "metadata": {},
   "outputs": [],
   "source": [
    "coordinates = (1.11, 2.3444)"
   ]
  },
  {
   "cell_type": "markdown",
   "id": "04ff8c5d",
   "metadata": {},
   "source": [
    "### Assessing items in a tuple"
   ]
  },
  {
   "cell_type": "code",
   "execution_count": 77,
   "id": "324b9275",
   "metadata": {},
   "outputs": [
    {
     "data": {
      "text/plain": [
       "'Mercedes-Benz'"
      ]
     },
     "execution_count": 77,
     "metadata": {},
     "output_type": "execute_result"
    }
   ],
   "source": [
    "carBrand = ('BMW', 'Toyota', 'Honda', 'Volkswagen', 'Mercedes-Benz')\n",
    "carBrand[4]"
   ]
  },
  {
   "cell_type": "markdown",
   "id": "8d7c28ae",
   "metadata": {},
   "source": [
    "\n",
    "\n",
    "## Updating a tuple"
   ]
  },
  {
   "cell_type": "code",
   "execution_count": 79,
   "id": "ee3f411a",
   "metadata": {},
   "outputs": [
    {
     "name": "stdout",
     "output_type": "stream",
     "text": [
      "('Maybach', 'BMW', 'Toyota', 'Honda', 'Volkswagen', 'Mercedes-Benz')\n"
     ]
    }
   ],
   "source": [
    "#convert the tuple to a list\n",
    "carBrand = ('BMW', 'Toyota', 'Honda', 'Volkswagen', 'Mercedes-Benz')\n",
    "\n",
    "carBrand_conv = list(carBrand)\n",
    "\n",
    "#add item to the converted list\n",
    "\n",
    "carBrand_conv.insert(0, 'Maybach')\n",
    "\n",
    "#convert list back to tuple\n",
    "\n",
    "carBrand = tuple(carBrand_conv)\n",
    "print(carBrand)"
   ]
  },
  {
   "cell_type": "code",
   "execution_count": null,
   "id": "fc25df12",
   "metadata": {},
   "outputs": [],
   "source": []
  },
  {
   "cell_type": "markdown",
   "id": "cd892b6c",
   "metadata": {},
   "source": [
    "\n",
    "\n",
    "## Join Tuples"
   ]
  },
  {
   "cell_type": "code",
   "execution_count": 81,
   "id": "47aae472",
   "metadata": {},
   "outputs": [
    {
     "name": "stdout",
     "output_type": "stream",
     "text": [
      "('Apple', 'Tomatoes', 'Banana', 'Mangoes', 'Cherry')\n"
     ]
    }
   ],
   "source": [
    "fruit1 = ('Apple', 'Tomatoes', 'Banana')\n",
    "fruit2 = ('Mangoes', 'Cherry')\n",
    "\n",
    "fruit_merged = fruit1 + fruit2\n",
    "print(fruit_merged)"
   ]
  },
  {
   "cell_type": "code",
   "execution_count": null,
   "id": "08badc93",
   "metadata": {},
   "outputs": [],
   "source": []
  },
  {
   "cell_type": "markdown",
   "id": "d423c0b9",
   "metadata": {},
   "source": [
    "\n",
    "\n",
    "\n",
    "# Dictionaries"
   ]
  },
  {
   "cell_type": "code",
   "execution_count": 88,
   "id": "eb0e5467",
   "metadata": {},
   "outputs": [
    {
     "name": "stdout",
     "output_type": "stream",
     "text": [
      "{'brand': 'Ford', 'model': 'Mustang', 'year': 1994}\n"
     ]
    }
   ],
   "source": [
    "# dictionary is an unordered collection of key-value pairs.\n",
    "#it uses key to assess items/valuesinstead of indexes like in list and tuple\n",
    "# denoted in curly braces{}\n",
    "#dicts are mutable\n",
    "#cannot assign one keyname to two dufferent values\n",
    "\n",
    "carBrand = {\n",
    "    \"brand\": \"Ford\",\n",
    "    \"model\": \"Mustang\",\n",
    "    \"year\": 1994\n",
    "}\n",
    "print(carBrand)"
   ]
  },
  {
   "cell_type": "markdown",
   "id": "12b53411",
   "metadata": {},
   "source": [
    "## Accessing dictionary items"
   ]
  },
  {
   "cell_type": "code",
   "execution_count": 107,
   "id": "5baf276e",
   "metadata": {},
   "outputs": [
    {
     "data": {
      "text/plain": [
       "'Mustang'"
      ]
     },
     "execution_count": 107,
     "metadata": {},
     "output_type": "execute_result"
    }
   ],
   "source": [
    "# using get() method\n",
    "\n",
    "carBrand.get(\"model\")\n"
   ]
  },
  {
   "cell_type": "code",
   "execution_count": 106,
   "id": "f1c68a2f",
   "metadata": {},
   "outputs": [
    {
     "data": {
      "text/plain": [
       "dict_keys(['brand', 'model', 'year'])"
      ]
     },
     "execution_count": 106,
     "metadata": {},
     "output_type": "execute_result"
    }
   ],
   "source": [
    "# using keys() method \n",
    "carBrand.keys()\n"
   ]
  },
  {
   "cell_type": "code",
   "execution_count": 105,
   "id": "ecf69669",
   "metadata": {},
   "outputs": [
    {
     "data": {
      "text/plain": [
       "dict_values(['Ford', 'Mustang', 1994])"
      ]
     },
     "execution_count": 105,
     "metadata": {},
     "output_type": "execute_result"
    }
   ],
   "source": [
    "# using values() method\n",
    "\n",
    "carBrand.values()"
   ]
  },
  {
   "cell_type": "code",
   "execution_count": 103,
   "id": "8cd655b6",
   "metadata": {},
   "outputs": [
    {
     "data": {
      "text/plain": [
       "dict_items([('brand', 'Ford'), ('model', 'Mustang'), ('year', 1994)])"
      ]
     },
     "execution_count": 103,
     "metadata": {},
     "output_type": "execute_result"
    }
   ],
   "source": [
    "# using items()method \n",
    "carBrand.items()\n"
   ]
  },
  {
   "cell_type": "markdown",
   "id": "f3105ec1",
   "metadata": {},
   "source": [
    "\n",
    "\n",
    "## Adding Items to dictionary"
   ]
  },
  {
   "cell_type": "code",
   "execution_count": 111,
   "id": "010464ae",
   "metadata": {},
   "outputs": [
    {
     "data": {
      "text/plain": [
       "dict_items([('brand', 'Ford'), ('model', 'Mustang'), ('year', 1994), ('Country of Origin', 'USA')])"
      ]
     },
     "execution_count": 111,
     "metadata": {},
     "output_type": "execute_result"
    }
   ],
   "source": [
    "# to add item to the dictionary\n",
    "\n",
    "carBrand[\"Country of Origin\"] = \"USA\"\n",
    "\n",
    "carBrand.items()"
   ]
  },
  {
   "cell_type": "code",
   "execution_count": 114,
   "id": "c9c0d995",
   "metadata": {},
   "outputs": [
    {
     "data": {
      "text/plain": [
       "dict_items([('brand', 'Ford'), ('model', 'Mustang'), ('year', 1994), ('Country of Origin', 'USA'), ('colour', 'Red')])"
      ]
     },
     "execution_count": 114,
     "metadata": {},
     "output_type": "execute_result"
    }
   ],
   "source": [
    "# using update() function to add an item\n",
    "\n",
    "carBrand.update({'colour' : 'Red'})\n",
    "carBrand.items()"
   ]
  },
  {
   "cell_type": "markdown",
   "id": "8cc9d4b1",
   "metadata": {},
   "source": [
    "\n",
    "\n",
    "\n",
    "## Removing items from a dictionary\n",
    "\n"
   ]
  },
  {
   "cell_type": "code",
   "execution_count": 115,
   "id": "14f25622",
   "metadata": {},
   "outputs": [
    {
     "data": {
      "text/plain": [
       "'Red'"
      ]
     },
     "execution_count": 115,
     "metadata": {},
     "output_type": "execute_result"
    }
   ],
   "source": [
    "# using pop() method\n",
    "carBrand.pop(\"colour\")"
   ]
  },
  {
   "cell_type": "code",
   "execution_count": 116,
   "id": "f6af5f0c",
   "metadata": {},
   "outputs": [
    {
     "data": {
      "text/plain": [
       "dict_items([('brand', 'Ford'), ('model', 'Mustang'), ('year', 1994), ('Country of Origin', 'USA')])"
      ]
     },
     "execution_count": 116,
     "metadata": {},
     "output_type": "execute_result"
    }
   ],
   "source": [
    "carBrand.items()"
   ]
  },
  {
   "cell_type": "code",
   "execution_count": 117,
   "id": "d225c73b",
   "metadata": {},
   "outputs": [
    {
     "data": {
      "text/plain": [
       "('Country of Origin', 'USA')"
      ]
     },
     "execution_count": 117,
     "metadata": {},
     "output_type": "execute_result"
    }
   ],
   "source": [
    "# using popitem()method\n",
    "\n",
    "carBrand.popitem()"
   ]
  },
  {
   "cell_type": "markdown",
   "id": "bc7140a7",
   "metadata": {},
   "source": [
    "\n",
    "\n",
    "\n",
    "\n",
    "## Project 2\n",
    "\n",
    "Create an initial tuple that contains a collection of items of your choice.\n",
    "This tuple represents the starting point for the project.Add items to the tuple\n",
    "\n"
   ]
  },
  {
   "cell_type": "code",
   "execution_count": 124,
   "id": "ce8e661e",
   "metadata": {},
   "outputs": [
    {
     "name": "stdout",
     "output_type": "stream",
     "text": [
      "('Odinaka', 'Nwanneka', 'Ngozi', 'Chimdalu', 'Chinaecherem', 'Onyinyechukwu')\n"
     ]
    }
   ],
   "source": [
    "mySiblings = ('Odinaka', 'Nwanneka', 'Ngozi', 'Chimdalu', 'Chinaecherem')\n",
    "\n",
    "#to add an item to the tuple, i have to cast it as list, add the item and reconvert to tuple\n",
    "\n",
    "mySiblings_conv = list(mySiblings)\n",
    "\n",
    "mySiblings_conv.append('Onyinyechukwu')\n",
    "\n",
    "mySiblings = tuple(mySiblings_conv)\n",
    "\n",
    "print(mySiblings)\n"
   ]
  },
  {
   "cell_type": "code",
   "execution_count": null,
   "id": "baa53ba2",
   "metadata": {},
   "outputs": [],
   "source": []
  }
 ],
 "metadata": {
  "kernelspec": {
   "display_name": "Python 3 (ipykernel)",
   "language": "python",
   "name": "python3"
  },
  "language_info": {
   "codemirror_mode": {
    "name": "ipython",
    "version": 3
   },
   "file_extension": ".py",
   "mimetype": "text/x-python",
   "name": "python",
   "nbconvert_exporter": "python",
   "pygments_lexer": "ipython3",
   "version": "3.10.9"
  }
 },
 "nbformat": 4,
 "nbformat_minor": 5
}
